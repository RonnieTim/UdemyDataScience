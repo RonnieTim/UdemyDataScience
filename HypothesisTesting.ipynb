{
 "cells": [
  {
   "attachments": {},
   "cell_type": "markdown",
   "metadata": {},
   "source": [
    "### Test for the mean. Population variance known"
   ]
  },
  {
   "cell_type": "code",
   "execution_count": 10,
   "metadata": {},
   "outputs": [],
   "source": [
    "import scipy.stats\n",
    "import numpy as np"
   ]
  },
  {
   "cell_type": "markdown",
   "metadata": {},
   "source": [
    "H0: SalaryDS = 113000\n",
    "H1: SalaryDS ≠ 113000"
   ]
  },
  {
   "cell_type": "code",
   "execution_count": 38,
   "metadata": {},
   "outputs": [],
   "source": [
    "salaries = [117313, 104002, 113038, 101936, 84560, 113136, 80740, 100536,\\\n",
    "            105052, 87201, 91986, 94868, 90745, 102848, 85927,112276, 108637,\\\n",
    "            96818, 92307, 114564, 109714, 108833, 115295, 89279, 81720, 89344,\\\n",
    "            114426, 90410, 95118, 113382]"
   ]
  },
  {
   "cell_type": "code",
   "execution_count": 39,
   "metadata": {},
   "outputs": [
    {
     "data": {
      "text/plain": [
       "100200.36666666667"
      ]
     },
     "execution_count": 39,
     "metadata": {},
     "output_type": "execute_result"
    }
   ],
   "source": [
    "sal_mean = np.mean(salaries)\n",
    "sal_mean"
   ]
  },
  {
   "cell_type": "code",
   "execution_count": 32,
   "metadata": {},
   "outputs": [
    {
     "name": "stdout",
     "output_type": "stream",
     "text": [
      "p-values: 1.1858676799856466e-06\n",
      "1.1858676799856466e-06  we are rejecting null hypothesis\n"
     ]
    }
   ],
   "source": [
    "ttset, pval = ttest_1samp(salaries, 113000)\n",
    "print('p-values:', pval)\n",
    "pvalue = pval\n",
    "if pvalue < 0.05:    # alpha value is 0.05 or 5%\n",
    "    print(pvalue, \" we are rejecting null hypothesis\")\n",
    "else:\n",
    "    print(\"we are accepting null hypothesis\")"
   ]
  },
  {
   "cell_type": "markdown",
   "metadata": {},
   "source": [
    "### Rule:\n",
    "Reject the NULL if: \n",
    "            p-value < some significance level"
   ]
  },
  {
   "cell_type": "code",
   "execution_count": 16,
   "metadata": {},
   "outputs": [
    {
     "data": {
      "text/plain": [
       "False"
      ]
     },
     "execution_count": 16,
     "metadata": {},
     "output_type": "execute_result"
    }
   ],
   "source": [
    "1.1858 < 0.05"
   ]
  },
  {
   "cell_type": "code",
   "execution_count": 30,
   "metadata": {},
   "outputs": [
    {
     "name": "stdout",
     "output_type": "stream",
     "text": [
      "1.1858676799856466e-06  we are rejecting null hypothesis\n"
     ]
    }
   ],
   "source": [
    "if pval < 0.05:    # alpha value is 0.05 or 5%\n",
    "    print(pval, \" we are rejecting null hypothesis\")\n",
    "else:\n",
    "    print(\"we are accepting null hypothesis\")"
   ]
  },
  {
   "cell_type": "code",
   "execution_count": 19,
   "metadata": {},
   "outputs": [
    {
     "data": {
      "text/plain": [
       "-6.107684139397263"
      ]
     },
     "execution_count": 19,
     "metadata": {},
     "output_type": "execute_result"
    }
   ],
   "source": [
    "tset, pval = ttest_1samp(salaries, 113000)\n",
    "tset"
   ]
  },
  {
   "cell_type": "code",
   "execution_count": 20,
   "metadata": {},
   "outputs": [
    {
     "data": {
      "text/plain": [
       "1.1858676799856466e-06"
      ]
     },
     "execution_count": 20,
     "metadata": {},
     "output_type": "execute_result"
    }
   ],
   "source": [
    "pval"
   ]
  },
  {
   "cell_type": "code",
   "execution_count": 23,
   "metadata": {},
   "outputs": [],
   "source": [
    "openrate = [26, 23, 42, 49, 23, 59, 29, 29, 57, 40]"
   ]
  },
  {
   "cell_type": "code",
   "execution_count": 25,
   "metadata": {},
   "outputs": [
    {
     "data": {
      "text/plain": [
       "37.7"
      ]
     },
     "execution_count": 25,
     "metadata": {},
     "output_type": "execute_result"
    }
   ],
   "source": [
    "meanop = np.mean(openrate)\n",
    "meanop"
   ]
  },
  {
   "cell_type": "code",
   "execution_count": 37,
   "metadata": {},
   "outputs": [
    {
     "name": "stdout",
     "output_type": "stream",
     "text": [
      "0.6092682858275453\n",
      "we failed to reject null hypothesis\n"
     ]
    }
   ],
   "source": [
    "ttset, pval = ttest_1samp(openrate, 40)\n",
    "print(pval)\n",
    "if pval < 0.05:    # alpha value is 0.05 or 5%\n",
    "    print(pval, \" we are rejecting null hypothesis\")\n",
    "else:\n",
    "    print(\"we failed to reject null hypothesis\")"
   ]
  },
  {
   "cell_type": "code",
   "execution_count": null,
   "metadata": {},
   "outputs": [],
   "source": []
  }
 ],
 "metadata": {
  "kernelspec": {
   "display_name": "Python 3",
   "language": "python",
   "name": "python3"
  },
  "language_info": {
   "codemirror_mode": {
    "name": "ipython",
    "version": 3
   },
   "file_extension": ".py",
   "mimetype": "text/x-python",
   "name": "python",
   "nbconvert_exporter": "python",
   "pygments_lexer": "ipython3",
   "version": "3.7.6"
  }
 },
 "nbformat": 4,
 "nbformat_minor": 4
}
